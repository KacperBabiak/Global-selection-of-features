{
 "cells": [
  {
   "cell_type": "code",
   "execution_count": 1,
   "metadata": {},
   "outputs": [],
   "source": [
    "from sklearn.datasets import load_iris\n",
    "from sklearn.datasets import load_wine\n",
    "from sklearn.model_selection import train_test_split\n",
    "from sklearn.naive_bayes import GaussianNB\n",
    "from sklearn.metrics import accuracy_score\n"
   ]
  },
  {
   "cell_type": "code",
   "execution_count": 2,
   "metadata": {},
   "outputs": [],
   "source": [
    "\n",
    "# wybór cech poprzez dodawanie\n",
    "# funkcja sprawdza czy działanie modelu poprawia się gdy pewna cecha zostanie dodana do zbioru używanch przy klasyfikacji cech\n",
    "# wybrana zostaje ta cecha która najbardziej poprawiła działanie\n",
    "# poprawienie trafności musi być wyższe od ustalonego progu - kryterium stopu \n",
    "\n",
    "def add_feature(acc, stop_threshold_add, model, all_features, selected_features,  X, y):\n",
    "        best_feature = None\n",
    "        best_accuracy = acc\n",
    "        prev_accuracy = acc\n",
    "\n",
    "        #wybor zestawu cech do sprawdzenia(wszystkie jeszcze nie używane)\n",
    "        features_left = all_features - set(selected_features)\n",
    "\n",
    "        for feature in features_left:\n",
    "            current_features = selected_features + [feature]\n",
    "            X_subset = X[:, current_features]\n",
    "\n",
    "            #podzielenie danych na zbiór uczący i testowy, stworzenie modelu\n",
    "            X_train, X_test, y_train, y_test = train_test_split(X_subset, y, test_size=0.3, random_state=61)\n",
    "            model.fit(X_train, y_train)\n",
    "            y_pred = model.predict(X_test)\n",
    "            accuracy = accuracy_score(y_test, y_pred)\n",
    "\n",
    "            \n",
    "            if accuracy > best_accuracy:\n",
    "                best_accuracy = accuracy\n",
    "                best_feature = feature\n",
    "            \n",
    "            \n",
    "\n",
    "        #obliczenie poprawy trafności - kryterium stopu\n",
    "        accuracy_diff =   best_accuracy - prev_accuracy\n",
    "        \n",
    "        \n",
    "        \n",
    "        if accuracy_diff > stop_threshold_add:\n",
    "            selected_features.append(best_feature)\n",
    "            print(f\"Dodano ceche {best_feature}, osiągnięto trafność {best_accuracy}\")\n",
    "            return best_accuracy\n",
    "        else:\n",
    "            print(f\" Sprawdzono ceche {best_feature}, nie spełniono kryterium.\")\n",
    "            return prev_accuracy"
   ]
  },
  {
   "cell_type": "code",
   "execution_count": 3,
   "metadata": {},
   "outputs": [],
   "source": [
    "# wybór cech poprzez odejmowanie\n",
    "# funkcja sprawdza czy działanie modelu poprawia się gdy pewna cecha zostanie usunięta zbioru używanch przy klasyfikacji cech\n",
    "# wybrana zostaje ta cecha której usunięcie najbardziej poprawiło działanie\n",
    "# poprawienie trafności musi być wyższe od ustalonego progu - kryterium stopu \n",
    "\n",
    "def remove_feature(acc, stop_threshold_remove, model,  selected_features,  X, y):\n",
    "        worst_feature = None\n",
    "        best_accuracy = acc\n",
    "        prev_accuracy = acc\n",
    "        \n",
    "        for feature in selected_features:\n",
    "            current_features = set(selected_features) - {feature}\n",
    "            X_subset = X[:, list(current_features)]\n",
    "\n",
    "            #podzielenie danych na zbiór uczący i testowy, stworzenie modelu\n",
    "            X_train, X_test, y_train, y_test = train_test_split(X_subset, y, test_size=0.3, random_state=61)\n",
    "            model.fit(X_train, y_train)\n",
    "            y_pred = model.predict(X_test)\n",
    "\n",
    "            #obliczenie  trafności\n",
    "            accuracy = accuracy_score(y_test, y_pred)\n",
    "            \n",
    "            if accuracy > best_accuracy:\n",
    "                best_accuracy = accuracy\n",
    "                worst_feature = feature\n",
    "\n",
    "        #obliczenie poprawy trafności - kryterium stopu\n",
    "        accuracy_diff =   best_accuracy - prev_accuracy\n",
    "        \n",
    "        if accuracy_diff >= stop_threshold_remove:\n",
    "            selected_features.remove(worst_feature)\n",
    "            print(f\"Usunieto ceche {worst_feature}, osiągnieto trafność {best_accuracy}\")\n",
    "            return best_accuracy\n",
    "        else:\n",
    "            print(f\" Sprawdzono ceche {worst_feature}, nie spełniono kryterium.\")\n",
    "            return prev_accuracy\n",
    "        \n",
    "\n",
    "\n"
   ]
  },
  {
   "cell_type": "code",
   "execution_count": 4,
   "metadata": {},
   "outputs": [],
   "source": [
    "#dodaj czy dodaje usuwa czy oba\n",
    "def run_selection(mode,stop_threshold_add,stop_threshold_remove,model,all_features,  X, y):\n",
    "        selected_features = []\n",
    "        current_accuracy = 0\n",
    "\n",
    "        if mode == \"add\" or mode == \"both\":\n",
    "                print(\"Dodawanie cech!\")\n",
    "                while True:\n",
    "                        new_accuracy = add_feature(current_accuracy, stop_threshold_add, model, all_features,selected_features,  X, y)\n",
    "\n",
    "                        #jeśli trafność nie zwieksza się o wartość powyżej progu, cechy przestają być dodawane\n",
    "                        if(new_accuracy>current_accuracy):\n",
    "                                current_accuracy = new_accuracy\n",
    "                        else: break\n",
    "\n",
    "        if mode == \"remove\" or mode == \"both\":\n",
    "                print(\"Usuwanie cech!\")\n",
    "                if mode == \"remove\": selected_features = all_features\n",
    "                while True:\n",
    "                        if (len(selected_features) < 2): break\n",
    "\n",
    "                        new_accuracy = remove_feature(current_accuracy, stop_threshold_remove, model, selected_features,  X, y)\n",
    "\n",
    "                        #jeśli trafność nie zwieksza się o wartość powyżej progu, cechy przestają być usuwane\n",
    "                        if(new_accuracy>current_accuracy):\n",
    "                                current_accuracy = new_accuracy\n",
    "                        else: break\n",
    "\n",
    "        \n",
    "        \n",
    "\n",
    "        return selected_features"
   ]
  },
  {
   "cell_type": "code",
   "execution_count": 9,
   "metadata": {},
   "outputs": [
    {
     "name": "stdout",
     "output_type": "stream",
     "text": [
      "Dodawanie cech!\n",
      "Dodano ceche 3, osiągnięto trafność 0.9777777777777777\n",
      " Sprawdzono ceche None, nie spełniono kryterium.\n",
      "Usuwanie cech!\n",
      "Wybrane cechy: [3]\n"
     ]
    }
   ],
   "source": [
    "#ładowanie danych z wybranego zbioru danych \n",
    "dataset = load_iris()\n",
    "#dataset = load_wine()\n",
    "\n",
    "X = dataset.data\n",
    "y = dataset.target\n",
    "\n",
    "\n",
    "\n",
    "#tworzenie modelu do testowania\n",
    "model = GaussianNB()\n",
    "\n",
    "#parametry\n",
    "threshold_add=0.01\n",
    "threshold_remove=0.05\n",
    "\n",
    "\n",
    "#zestawy cech\n",
    "all_features = set(range(X.shape[1]))\n",
    "\n",
    "\n",
    "mode = 'both' #both/add/remove\n",
    "\n",
    "selected_features = run_selection(mode, threshold_add, threshold_remove, model, all_features, X, y)\n",
    "\n",
    "print(\"Wybrane cechy:\", selected_features)"
   ]
  },
  {
   "cell_type": "code",
   "execution_count": 10,
   "metadata": {},
   "outputs": [],
   "source": [
    "#Ta sama klasyfikcja, bez selekcji, z wszystkimi cechami\n",
    "X_train, X_test, y_train, y_test = train_test_split(X, y, test_size=0.3, random_state=61)\n",
    "model.fit(X_train, y_train)\n",
    "y_pred = model.predict(X_test)\n",
    "\n",
    "            #obliczenie  trafności\n",
    "accuracy = accuracy_score(y_test, y_pred)"
   ]
  },
  {
   "cell_type": "code",
   "execution_count": 11,
   "metadata": {},
   "outputs": [
    {
     "name": "stdout",
     "output_type": "stream",
     "text": [
      "0.9777777777777777\n"
     ]
    }
   ],
   "source": [
    "print(accuracy)"
   ]
  }
 ],
 "metadata": {
  "kernelspec": {
   "display_name": "Python 3",
   "language": "python",
   "name": "python3"
  },
  "language_info": {
   "codemirror_mode": {
    "name": "ipython",
    "version": 3
   },
   "file_extension": ".py",
   "mimetype": "text/x-python",
   "name": "python",
   "nbconvert_exporter": "python",
   "pygments_lexer": "ipython3",
   "version": "3.10.11"
  }
 },
 "nbformat": 4,
 "nbformat_minor": 2
}
